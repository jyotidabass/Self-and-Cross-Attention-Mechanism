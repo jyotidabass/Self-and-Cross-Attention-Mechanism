{
  "nbformat": 4,
  "nbformat_minor": 0,
  "metadata": {
    "colab": {
      "provenance": [],
      "authorship_tag": "ABX9TyMSuQQKHWcb8tsA8PDAjxok",
      "include_colab_link": true
    },
    "kernelspec": {
      "name": "python3",
      "display_name": "Python 3"
    },
    "language_info": {
      "name": "python"
    }
  },
  "cells": [
    {
      "cell_type": "markdown",
      "metadata": {
        "id": "view-in-github",
        "colab_type": "text"
      },
      "source": [
        "<a href=\"https://colab.research.google.com/github/jyotidabass/Self-and-Cross-Attention-Mechanism/blob/main/Self_and_Cross_Attention_Mechanism.ipynb\" target=\"_parent\"><img src=\"https://colab.research.google.com/assets/colab-badge.svg\" alt=\"Open In Colab\"/></a>"
      ]
    },
    {
      "cell_type": "code",
      "execution_count": 16,
      "metadata": {
        "colab": {
          "base_uri": "https://localhost:8080/"
        },
        "id": "KsvL_1ysnxXg",
        "outputId": "8bdc1245-cc3f-4573-e547-83f4a28d2de2"
      },
      "outputs": [
        {
          "output_type": "stream",
          "name": "stdout",
          "text": [
            "Context vector shape: (1, 3)\n",
            "Context vector: [[1.2 1.5 1.8]]\n",
            "Query: [[0.1 0.2 0.3]]\n",
            "Keys: [[0.1 0.2 0.3]\n",
            " [0.4 0.5 0.6]\n",
            " [0.7 0.8 0.9]]\n",
            "Values: [[0.1 0.2 0.3]\n",
            " [0.4 0.5 0.6]\n",
            " [0.7 0.8 0.9]]\n",
            "Attention scores: [[0.14 0.32 0.5 ]]\n"
          ]
        }
      ],
      "source": [
        "import numpy as np\n",
        "\n",
        "def self_attention(query, keys, values, d_k):\n",
        "    # Compute the attention scores\n",
        "    attention_scores = np.dot(query, keys.T) / np.sqrt(d_k)\n",
        "\n",
        "    # Normalize the attention scores using softmax\n",
        "    # Subtract the maximum value for numerical stability\n",
        "    exp_scores = np.exp(attention_scores - np.max(attention_scores, axis=0, keepdims=True))\n",
        "    attention_weights = exp_scores / np.sum(exp_scores, axis=0, keepdims=True)\n",
        "\n",
        "    # Compute the context vector by applying the attention weights to the values\n",
        "    context_vector = np.dot(attention_weights, values)\n",
        "    return context_vector\n",
        "\n",
        "# Create example input tensors\n",
        "query = np.array([[0.1, 0.2, 0.3]])  # Query vector (1 x dk)\n",
        "keys = np.array([[0.1, 0.2, 0.3], [0.4, 0.5, 0.6], [0.7, 0.8, 0.9]])  # Key matrix (3 x dk)\n",
        "values = np.array([[0.1, 0.2, 0.3], [0.4, 0.5, 0.6], [0.7, 0.8, 0.9]])  # Value matrix (3 x dk)\n",
        "d_k = 3  # Dimension of keys\n",
        "\n",
        "# Compute the context vector\n",
        "context_vector = self_attention(query, keys, values, d_k)\n",
        "print(\"Context vector shape:\", context_vector.shape)\n",
        "print(\"Context vector:\", context_vector)\n",
        "\n",
        "print(\"Query:\", query)\n",
        "print(\"Keys:\", keys)\n",
        "print(\"Values:\", values)\n",
        "\n",
        "print(\"Attention scores:\", np.dot(query, keys.T))"
      ]
    },
    {
      "cell_type": "code",
      "source": [
        "import numpy as np\n",
        "\n",
        "def cross_attention(query, keys, values, d_k):\n",
        "    # Compute the attention scores\n",
        "    attention_scores = np.dot(query, keys.T) / np.sqrt(d_k)\n",
        "\n",
        "    # Normalize the attention scores using softmax\n",
        "    # Subtract the maximum value for numerical stability\n",
        "    exp_scores = np.exp(attention_scores - np.max(attention_scores, axis=0, keepdims=True))\n",
        "    attention_weights = exp_scores / np.sum(exp_scores, axis=0, keepdims=True)  # Manual softmax calculation\n",
        "\n",
        "    # Compute the context vector by applying the attention weights to the values\n",
        "    context_vector = np.dot(attention_weights, values)\n",
        "    return context_vector\n",
        "\n",
        "# Create example input tensors\n",
        "query = np.array([[0.1, 0.2, 0.3]])  # Query vector (1 x dk)\n",
        "keys = np.array([[0.1, 0.2, 0.3], [0.4, 0.5, 0.6], [0.7, 0.8, 0.9]])  # Key matrix (3 x dk)\n",
        "values = np.array([[0.1, 0.2, 0.3], [0.4, 0.5, 0.6], [0.7, 0.8, 0.9]])  # Value matrix (3 x dk)\n",
        "d_k = 3  # Dimension of keys\n",
        "\n",
        "# Compute the context vector\n",
        "context_vector = cross_attention(query, keys, values, d_k)\n",
        "print(\"Context vector shape:\", context_vector.shape)\n",
        "print(\"Context vector:\", context_vector)\n",
        "\n",
        "print(\"Query:\", query)\n",
        "print(\"Keys:\", keys)\n",
        "print(\"Values:\", values)\n"
      ],
      "metadata": {
        "colab": {
          "base_uri": "https://localhost:8080/"
        },
        "id": "u9LpzubBqk1s",
        "outputId": "13986b4f-a81a-41d8-bed7-5af28964b54a"
      },
      "execution_count": 19,
      "outputs": [
        {
          "output_type": "stream",
          "name": "stdout",
          "text": [
            "Context vector shape: (1, 3)\n",
            "Context vector: [[1.2 1.5 1.8]]\n",
            "Query: [[0.1 0.2 0.3]]\n",
            "Keys: [[0.1 0.2 0.3]\n",
            " [0.4 0.5 0.6]\n",
            " [0.7 0.8 0.9]]\n",
            "Values: [[0.1 0.2 0.3]\n",
            " [0.4 0.5 0.6]\n",
            " [0.7 0.8 0.9]]\n"
          ]
        }
      ]
    }
  ]
}